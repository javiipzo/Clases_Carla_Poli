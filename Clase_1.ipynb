{
 "cells": [
  {
   "cell_type": "code",
   "execution_count": 4,
   "metadata": {},
   "outputs": [
    {
     "name": "stdout",
     "output_type": "stream",
     "text": [
      " Hola car!, encantado de conocerte\n"
     ]
    }
   ],
   "source": [
    "nombre=input(' Introduzca su nombre: ')\n",
    "text=(' Hola {}!, encantado de conocerte').format(nombre)\n",
    "print(text)\n"
   ]
  },
  {
   "cell_type": "code",
   "execution_count": 8,
   "metadata": {},
   "outputs": [
    {
     "name": "stdout",
     "output_type": "stream",
     "text": [
      "El sueldo que recibira con un numero de horas de 8 y coste por hora de 10 es de: 80\n"
     ]
    }
   ],
   "source": [
    "horas=input(' Introduzca el numero de horas que trabaja ')\n",
    "coste=input(' Introduzca el coste por hora ')\n",
    "dev='El sueldo que recibira con un numero de horas de {} y coste por hora de {}$ es de: {}$'.format(horas,coste,int(horas)*int(coste))\n",
    "print(dev)"
   ]
  },
  {
   "cell_type": "code",
   "execution_count": null,
   "metadata": {},
   "outputs": [],
   "source": []
  }
 ],
 "metadata": {
  "kernelspec": {
   "display_name": "Python 3.10.6 64-bit",
   "language": "python",
   "name": "python3"
  },
  "language_info": {
   "codemirror_mode": {
    "name": "ipython",
    "version": 3
   },
   "file_extension": ".py",
   "mimetype": "text/x-python",
   "name": "python",
   "nbconvert_exporter": "python",
   "pygments_lexer": "ipython3",
   "version": "3.10.6"
  },
  "orig_nbformat": 4,
  "vscode": {
   "interpreter": {
    "hash": "aee8b7b246df8f9039afb4144a1f6fd8d2ca17a180786b69acc140d282b71a49"
   }
  }
 },
 "nbformat": 4,
 "nbformat_minor": 2
}
